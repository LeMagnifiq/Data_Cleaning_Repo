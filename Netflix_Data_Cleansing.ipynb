{
  "nbformat": 4,
  "nbformat_minor": 0,
  "metadata": {
    "colab": {
      "provenance": [],
      "mount_file_id": "1hvScB1LyP295U1N5tnF3521c_fP0pt95",
      "authorship_tag": "ABX9TyNCE7YZqWnC9fPtn34EVdqg",
      "include_colab_link": true
    },
    "kernelspec": {
      "name": "python3",
      "display_name": "Python 3"
    },
    "language_info": {
      "name": "python"
    }
  },
  "cells": [
    {
      "cell_type": "markdown",
      "metadata": {
        "id": "view-in-github",
        "colab_type": "text"
      },
      "source": [
        "<a href=\"https://colab.research.google.com/github/LeMagnifiq/Suleyman-Portfolio/blob/main/Netflix_Data_Cleansing.ipynb\" target=\"_parent\"><img src=\"https://colab.research.google.com/assets/colab-badge.svg\" alt=\"Open In Colab\"/></a>"
      ]
    },
    {
      "cell_type": "code",
      "execution_count": null,
      "metadata": {
        "id": "qlnmm_dPSG53"
      },
      "outputs": [],
      "source": [
        "import pandas as pd"
      ]
    },
    {
      "cell_type": "code",
      "source": [
        "# Load the data\n",
        "df = pd.read_csv('/content/drive/MyDrive/Netflix/NetFlix.csv')"
      ],
      "metadata": {
        "id": "Vwy-FnnvSeq3"
      },
      "execution_count": null,
      "outputs": []
    },
    {
      "cell_type": "code",
      "source": [
        "# Check the first few rows of the DataFrame\n",
        "print(df.head(5))"
      ],
      "metadata": {
        "colab": {
          "base_uri": "https://localhost:8080/"
        },
        "id": "2KamCrkaTdPk",
        "outputId": "6e240863-d308-47c1-9620-da7ac07a1721"
      },
      "execution_count": null,
      "outputs": [
        {
          "output_type": "stream",
          "name": "stdout",
          "text": [
            "  show_id     type                                      title        director  \\\n",
            "0      s1  TV Show                                         3%             NaN   \n",
            "1     s10    Movie                                       1920    Vikram Bhatt   \n",
            "2    s100    Movie                                 3 Heroines  Iman Brotoseno   \n",
            "3   s1000    Movie  Blue Mountain State: The Rise of Thadland    Lev L. Spiro   \n",
            "4   s1001  TV Show                             Blue Planet II             NaN   \n",
            "\n",
            "                                                cast         country  \\\n",
            "0  João Miguel, Bianca Comparato, Michel Gomes, R...          Brazil   \n",
            "1  Rajneesh Duggal, Adah Sharma, Indraneil Sengup...           India   \n",
            "2  Reza Rahadian, Bunga Citra Lestari, Tara Basro...       Indonesia   \n",
            "3  Alan Ritchson, Darin Brooks, James Cade, Rob R...   United States   \n",
            "4                                 David Attenborough  United Kingdom   \n",
            "\n",
            "  date_added  release_year rating  duration  \\\n",
            "0  14-Aug-20          2020  TV-MA         4   \n",
            "1  15-Dec-17          2008  TV-MA       143   \n",
            "2  05-Jan-19          2016  TV-PG       124   \n",
            "3  01-Mar-16          2016      R        90   \n",
            "4  03-Dec-18          2017   TV-G         1   \n",
            "\n",
            "                                              genres  \\\n",
            "0  International TV Shows, TV Dramas, TV Sci-Fi &...   \n",
            "1     Horror Movies, International Movies, Thrillers   \n",
            "2        Dramas, International Movies, Sports Movies   \n",
            "3                                           Comedies   \n",
            "4  British TV Shows, Docuseries, Science & Nature TV   \n",
            "\n",
            "                                         description  \n",
            "0  In a future where the elite inhabit an island ...  \n",
            "1  An architect and his wife move into a castle t...  \n",
            "2  Three Indonesian women break records by becomi...  \n",
            "3  New NFL star Thad buys his old teammates' belo...  \n",
            "4  This sequel to the award-winning nature series...  \n"
          ]
        }
      ]
    },
    {
      "cell_type": "code",
      "source": [
        "# Check for missing values\n",
        "print(df.isnull().sum())"
      ],
      "metadata": {
        "colab": {
          "base_uri": "https://localhost:8080/"
        },
        "id": "oNp-qBLIThcv",
        "outputId": "009f73db-71a4-43f4-f8f6-bf0670bbb06e"
      },
      "execution_count": null,
      "outputs": [
        {
          "output_type": "stream",
          "name": "stdout",
          "text": [
            "show_id            0\n",
            "type               0\n",
            "title              0\n",
            "director        2389\n",
            "cast             718\n",
            "country          507\n",
            "date_added        10\n",
            "release_year       0\n",
            "rating             7\n",
            "duration           0\n",
            "genres             0\n",
            "description        0\n",
            "dtype: int64\n"
          ]
        }
      ]
    },
    {
      "cell_type": "code",
      "source": [
        "# Fill missing 'director', 'cast', and 'country' information with 'Unknown'\n",
        "df[['director', 'cast', 'country']] = df[['director', 'cast', 'country']].fillna('Unknown')"
      ],
      "metadata": {
        "id": "JZZSV-PpUn0U"
      },
      "execution_count": null,
      "outputs": []
    },
    {
      "cell_type": "code",
      "source": [
        "# For 'date_added', drop missing values\n",
        "df = df.dropna(subset=['date_added'])"
      ],
      "metadata": {
        "id": "zNPfy1q5UqDs"
      },
      "execution_count": null,
      "outputs": []
    },
    {
      "cell_type": "code",
      "source": [
        "# For 'rating', Replace missing values with the most frequent rating\n",
        "most_common_rating = df['rating'].value_counts().idxmax()\n",
        "df['rating'] = df['rating'].fillna(most_common_rating)"
      ],
      "metadata": {
        "id": "a4o6WS6_U-_U"
      },
      "execution_count": null,
      "outputs": []
    },
    {
      "cell_type": "code",
      "source": [
        "# Check for missing values again\n",
        "print(df.isnull().sum())"
      ],
      "metadata": {
        "colab": {
          "base_uri": "https://localhost:8080/"
        },
        "id": "uB0NEfplVII5",
        "outputId": "256dd985-7547-4ff5-b969-0a112b77f6bc"
      },
      "execution_count": null,
      "outputs": [
        {
          "output_type": "stream",
          "name": "stdout",
          "text": [
            "show_id         0\n",
            "type            0\n",
            "title           0\n",
            "director        0\n",
            "cast            0\n",
            "country         0\n",
            "date_added      0\n",
            "release_year    0\n",
            "rating          0\n",
            "duration        0\n",
            "genres          0\n",
            "description     0\n",
            "dtype: int64\n"
          ]
        }
      ]
    },
    {
      "cell_type": "code",
      "source": [
        "# Convert 'genres' to a list of genres\n",
        "df['genres'] = df['genres'].apply(lambda x: x.split(\", \"))\n"
      ],
      "metadata": {
        "id": "QIO8NnNBf3IF"
      },
      "execution_count": null,
      "outputs": []
    },
    {
      "cell_type": "code",
      "source": [
        "df.duplicated().sum()"
      ],
      "metadata": {
        "colab": {
          "base_uri": "https://localhost:8080/"
        },
        "id": "dwr23wwrWPZI",
        "outputId": "529f4651-efc1-4c15-daba-ee3910917d23"
      },
      "execution_count": null,
      "outputs": [
        {
          "output_type": "execute_result",
          "data": {
            "text/plain": [
              "0"
            ]
          },
          "metadata": {},
          "execution_count": 17
        }
      ]
    },
    {
      "cell_type": "code",
      "source": [
        "print(df.head(5))"
      ],
      "metadata": {
        "colab": {
          "base_uri": "https://localhost:8080/"
        },
        "id": "KiRyIOiAf63c",
        "outputId": "2f336006-54ff-42f3-c68b-c0006af77209"
      },
      "execution_count": null,
      "outputs": [
        {
          "output_type": "stream",
          "name": "stdout",
          "text": [
            "  show_id     type                                      title        director  \\\n",
            "0      s1  TV Show                                         3%         Unknown   \n",
            "1     s10    Movie                                       1920    Vikram Bhatt   \n",
            "2    s100    Movie                                 3 Heroines  Iman Brotoseno   \n",
            "3   s1000    Movie  Blue Mountain State: The Rise of Thadland    Lev L. Spiro   \n",
            "4   s1001  TV Show                             Blue Planet II         Unknown   \n",
            "\n",
            "                                                cast         country  \\\n",
            "0  João Miguel, Bianca Comparato, Michel Gomes, R...          Brazil   \n",
            "1  Rajneesh Duggal, Adah Sharma, Indraneil Sengup...           India   \n",
            "2  Reza Rahadian, Bunga Citra Lestari, Tara Basro...       Indonesia   \n",
            "3  Alan Ritchson, Darin Brooks, James Cade, Rob R...   United States   \n",
            "4                                 David Attenborough  United Kingdom   \n",
            "\n",
            "  date_added  release_year rating  duration  \\\n",
            "0  14-Aug-20          2020  TV-MA         4   \n",
            "1  15-Dec-17          2008  TV-MA       143   \n",
            "2  05-Jan-19          2016  TV-PG       124   \n",
            "3  01-Mar-16          2016      R        90   \n",
            "4  03-Dec-18          2017   TV-G         1   \n",
            "\n",
            "                                              genres  \\\n",
            "0  [International TV Shows, TV Dramas, TV Sci-Fi ...   \n",
            "1   [Horror Movies, International Movies, Thrillers]   \n",
            "2      [Dramas, International Movies, Sports Movies]   \n",
            "3                                         [Comedies]   \n",
            "4  [British TV Shows, Docuseries, Science & Natur...   \n",
            "\n",
            "                                         description  \n",
            "0  In a future where the elite inhabit an island ...  \n",
            "1  An architect and his wife move into a castle t...  \n",
            "2  Three Indonesian women break records by becomi...  \n",
            "3  New NFL star Thad buys his old teammates' belo...  \n",
            "4  This sequel to the award-winning nature series...  \n"
          ]
        }
      ]
    },
    {
      "cell_type": "code",
      "source": [
        "# Save the cleaned DataFrame to a new csv file\n",
        "df.to_csv('Netflix_Clean.csv', index=False)"
      ],
      "metadata": {
        "id": "FTdNIWPwVVsD"
      },
      "execution_count": null,
      "outputs": []
    }
  ]
}