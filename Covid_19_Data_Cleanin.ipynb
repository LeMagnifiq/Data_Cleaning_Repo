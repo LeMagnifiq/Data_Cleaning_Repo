{
  "nbformat": 4,
  "nbformat_minor": 0,
  "metadata": {
    "colab": {
      "provenance": [],
      "mount_file_id": "1AQRIxFFhWaoNXLXzilRSiBbWW0MQJy7C",
      "authorship_tag": "ABX9TyMw4M87FJvQI9kncOS8lUDY",
      "include_colab_link": true
    },
    "kernelspec": {
      "name": "python3",
      "display_name": "Python 3"
    },
    "language_info": {
      "name": "python"
    }
  },
  "cells": [
    {
      "cell_type": "markdown",
      "metadata": {
        "id": "view-in-github",
        "colab_type": "text"
      },
      "source": [
        "<a href=\"https://colab.research.google.com/github/LeMagnifiq/Suleyman-Portfolio/blob/main/Covid_19_Data_Cleanin.ipynb\" target=\"_parent\"><img src=\"https://colab.research.google.com/assets/colab-badge.svg\" alt=\"Open In Colab\"/></a>"
      ]
    },
    {
      "cell_type": "code",
      "execution_count": 1,
      "metadata": {
        "id": "Vj_0pV3q4wTX"
      },
      "outputs": [],
      "source": [
        "import pandas as pd"
      ]
    },
    {
      "cell_type": "code",
      "source": [
        "# Load data\n",
        "df = pd.read_csv(\"/content/drive/MyDrive/Covid 19 Mexico Data/Covid Data 2.csv\")"
      ],
      "metadata": {
        "id": "20qRkM-I5axQ"
      },
      "execution_count": 2,
      "outputs": []
    },
    {
      "cell_type": "code",
      "source": [
        "# Define function to convert Boolean features to more readable form\n",
        "def bool_converter(val, condition):\n",
        "    if val == 1:\n",
        "        return condition\n",
        "    elif val == 2:\n",
        "        return \"Not \" + condition\n",
        "    elif val in [97, 99]:\n",
        "        return \"Unknown\"\n",
        "    else:\n",
        "        return val"
      ],
      "metadata": {
        "id": "eqXSL-W55oOj"
      },
      "execution_count": 3,
      "outputs": []
    },
    {
      "cell_type": "code",
      "source": [
        "# Define function to convert classification into more readable form\n",
        "def classification_converter(val):\n",
        "    if val in [1, 2, 3]:\n",
        "        return \"Diagnosed\"\n",
        "    elif val >= 4:\n",
        "        return \"Not Diagnosed\"\n",
        "    else:\n",
        "        return val"
      ],
      "metadata": {
        "id": "gVtuXMKs51Q-"
      },
      "execution_count": 4,
      "outputs": []
    },
    {
      "cell_type": "code",
      "source": [
        "# Define function to convert patient type into more readable form\n",
        "def patient_type_converter(val):\n",
        "    if val == 1:\n",
        "        return \"Returned Home\"\n",
        "    elif val == 2:\n",
        "        return \"Hospitalised\"\n",
        "    else:\n",
        "        return val"
      ],
      "metadata": {
        "id": "CGTbAWlS55Qq"
      },
      "execution_count": 6,
      "outputs": []
    },
    {
      "cell_type": "code",
      "source": [
        "# Define function to convert sex into more readable form\n",
        "def sex_converter(val):\n",
        "    if val == 1:\n",
        "        return \"Female\"\n",
        "    elif val == 2:\n",
        "        return \"Male\"\n",
        "    else:\n",
        "        return val"
      ],
      "metadata": {
        "id": "PI-krhmQ5-kU"
      },
      "execution_count": 7,
      "outputs": []
    },
    {
      "cell_type": "code",
      "source": [
        "# Convert date died to a binary column indicating if patient died or survived\n",
        "df['died'] = df['DATE_DIED'].apply(lambda x: 'Survived' if x == '9999-99-99' else 'Died')"
      ],
      "metadata": {
        "id": "5Nmr0JYb6JCd"
      },
      "execution_count": 9,
      "outputs": []
    },
    {
      "cell_type": "code",
      "source": [
        "# Convert 'date_died' to datetime format, replacing '9999-99-99' with NaT (Not a Time)\n",
        "df['DATE_DIED'] = pd.to_datetime(df['DATE_DIED'], errors='coerce', dayfirst=True)"
      ],
      "metadata": {
        "id": "pnamly2A6YTC"
      },
      "execution_count": 13,
      "outputs": []
    },
    {
      "cell_type": "code",
      "source": [
        "# Dictionary to map conditions to columns\n",
        "conditions = {\n",
        "    'PNEUMONIA': 'Pneumonic',\n",
        "    'PREGNANT': 'Pregnant',\n",
        "    'DIABETES': 'Diabetic',\n",
        "    'COPD': 'COPD Condition',\n",
        "    'ASTHMA': 'Asthmatic',\n",
        "    'INMSUPR': 'Immunosuppressed',\n",
        "    'HIPERTENSION': 'Hypertensive',\n",
        "    'CARDIOVASCULAR': 'Cardiovascular Condition',\n",
        "    'RENAL_CHRONIC': 'Chronic Renal Disease',\n",
        "    'OTHER_DISEASE': 'Other Disease',\n",
        "    'OBESITY': 'Obese',\n",
        "    'TOBACCO': 'Tobacco User',\n",
        "    'USMER': 'Treated Medical Unit',\n",
        "    'ICU': 'Admitted to ICU'\n",
        "}"
      ],
      "metadata": {
        "id": "t-63vF1n67Ww"
      },
      "execution_count": 19,
      "outputs": []
    },
    {
      "cell_type": "code",
      "source": [
        "# Convert Boolean features into 'Condition', 'Not Condition', 'Unknown'\n",
        "for feature, condition in conditions.items():\n",
        "    df[feature] = df[feature].apply(lambda x: bool_converter(x, condition))"
      ],
      "metadata": {
        "id": "tbkhJ3ID7K4D"
      },
      "execution_count": 20,
      "outputs": []
    },
    {
      "cell_type": "code",
      "source": [
        "# Convert other features to readable form\n",
        "df['CLASIFFICATION_FINAL'] = df['CLASIFFICATION_FINAL'].apply(classification_converter)\n",
        "df['PATIENT_TYPE'] = df['PATIENT_TYPE'].apply(patient_type_converter)\n",
        "df['SEX'] = df['SEX'].apply(sex_converter)\n"
      ],
      "metadata": {
        "id": "Og6zhW0m9hbL"
      },
      "execution_count": 18,
      "outputs": []
    },
    {
      "cell_type": "code",
      "source": [
        "# Write cleaned data to new Excel file\n",
        "df.to_excel(\"cleaned_data.xlsx\", index=False)\n",
        "\n",
        "print(\"Data cleaning is complete and the cleaned data has been written to 'cleaned_data.xlsx'.\")"
      ],
      "metadata": {
        "id": "6gEjScqB-Rnl",
        "outputId": "b1b9cbfa-e51f-4851-d3a2-69c99e23584e",
        "colab": {
          "base_uri": "https://localhost:8080/"
        }
      },
      "execution_count": 21,
      "outputs": [
        {
          "output_type": "stream",
          "name": "stdout",
          "text": [
            "Data cleaning is complete and the cleaned data has been written to 'cleaned_data.xlsx'.\n"
          ]
        }
      ]
    }
  ]
}